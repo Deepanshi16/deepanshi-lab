viva answers)

{
 "cells": [
  {
   "cell_type": "markdown",
   "metadata": {},
   "source": [
    "viva questions\n"
   ]
  },
  {
   "cell_type": "code",
   "execution_count": 1,
   "metadata": {},
   "outputs": [
    {
     "name": "stdout",
     "output_type": "stream",
     "text": [
      "0\n",
      "1\n",
      "2\n",
      "3\n",
      "\n",
      "0\n",
      "1\n",
      "2\n",
      "3\n",
      "4\n"
     ]
    }
   ],
   "source": [
    "# 1\n",
    "# code a will print first 4 elements of the list and b will print complete list\n",
    "list=[0,1,2,3,4]\n",
    "for i in range(0,4):\n",
    "    print(i)\n",
    "print()\n",
    "for i in list:\n",
    "    print(i)\n",
    "    \n",
    "# 2\n",
    "# abccdefghij\n",
    "\n",
    "\n",
    "# 3\n",
    "# using .join() function"
   ]
  },
  {
   "cell_type": "code",
   "execution_count": 2,
   "metadata": {},
   "outputs": [
    {
     "name": "stdout",
     "output_type": "stream",
     "text": [
      "abcdefghij\n",
      "defg\n"
     ]
    }
   ],
   "source": [
    "word=\"abcdefghij\"\n",
    "print(word)\n",
    "slice = word[3:7]\n",
    "print(slice)"
   ]
  },
  {
   "cell_type": "code",
   "execution_count": 3,
   "metadata": {},
   "outputs": [
    {
     "name": "stdout",
     "output_type": "stream",
     "text": [
      "0 0\n",
      "end of loop\n",
      "1 1\n",
      "end of loop\n",
      "2 4\n",
      "end of loop\n",
      "3 9\n",
      "end of loop\n"
     ]
    }
   ],
   "source": [
    "for i in range(0,4):\n",
    "    print(i,i**2)\n",
    "    print('end of loop')"
   ]
  },
  {
   "cell_type": "code",
   "execution_count": null,
   "metadata": {},
   "outputs": [],
   "source": []
  }
 ],
 "metadata": {
  "kernelspec": {
   "display_name": "Python 3",
   "language": "python",
   "name": "python3"
  },
  "language_info": {
   "codemirror_mode": {
    "name": "ipython",
    "version": 3
   },
   "file_extension": ".py",
   "mimetype": "text/x-python",
   "name": "python",
   "nbconvert_exporter": "python",
   "pygments_lexer": "ipython3",
   "version": "3.7.4"
  }
 },
 "nbformat": 4,
 "nbformat_minor": 2
}

## printing the entire dictonary after performing all the operations


programing answer 1)
            
# creating a blank dictonary
semester4 = {} 
  
## adding the value to the dictonary
semester4["student_name"] = ["abc","xyz","def"] 
semester4["expirement_items"] = ["test_tube", "chemical", "stirrer","water"]
semester4["num_of_items"]=[10,10,5,50]


## printing the values of the dictonary

for val in semester4.values(): 
        print(val) 


## adding the faculty_assigned as key and a,b,c,d as a value to the existing dictonary semester4


semester4["faculty_assigned"]=["a","b","c","d"]

## showing the value of the dictonary after adding the new elemenet
for val in semester4.values(): 
        print(val)


## sorting the value of the empirement_items and printing them as a new line using loop

for i in sorted (semester4["expirement_items"]) :  
         print(i) 


## changing the value of num_of_items to 4
for val in semester4.items():
            semester4["num_of_items"]={4,4,4,4}

## printing the entire dictonary after performing all the operations
            
print(semester4.items())





#printing the value of the dictonary using silicing

## setting the range 
value = 3
    
slicing = dict(list(semester4.items())[0: value])  
        
# printing result   
print("Dictionary by slilicing is  : " + str(slicing)) 
        
